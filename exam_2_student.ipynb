{
 "cells": [
  {
   "cell_type": "markdown",
   "metadata": {},
   "source": [
    "# Exam R\n",
    "Mark Klik & Misja Mikkers\n",
    "\n",
    "# Introduction\n",
    "\n",
    "Before you turn this problem in, make sure everything runs as expected. First, **restart the kernel** (in the menubar, select Kernel$\\rightarrow$Restart) and then **run all cells** (in the menubar, select Cell$\\rightarrow$Run All).\n",
    "\n",
    "Make sure you fill in any place that says `YOUR CODE HERE` or \"YOUR ANSWER HERE\", as well as your name and collaborators below:\n",
    "\n"
   ]
  },
  {
   "cell_type": "code",
   "execution_count": 111,
   "metadata": {},
   "outputs": [],
   "source": [
    "NAME = \"Daniel Wolswijk, #2008444#\"\n",
    "COLLABORATORS = \"\""
   ]
  },
  {
   "cell_type": "markdown",
   "metadata": {},
   "source": [
    "Fill in the cell above to provide us with your name and student number, like\n",
    "\n",
    "NAME = \"Adam Smith, #student number#\"\n",
    "\n",
    "where you replace \"#student number#\" with your ... (very good!)\n",
    "\n",
    "Unfortunately, you are not allowed to work with \"COLLABORATORS\" in this exam.\n",
    "\n",
    "## exam September 21th, 2018\n",
    "\n",
    "With this R part of the exam you can earn at max. 4 points.\n",
    "\n",
    "In the first cell of the notebook, give us your name and student number in the way indicated above.\n",
    "\n",
    "Fill in the notebook (see below for code cells and text cells that you need to fill in).\n",
    "\n",
    "If you look at the menus above (File, Edit, View etc.), there is one called \"Cell\". If you click on this, you can change the \"Cell Type\". Choose \"Code\" when you are typing python or R code. Choose \"Markdown\" when you are typing, well, markdown.\n",
    "\n",
    "When you finish the notebook, make sure that you save it with the output of your code included.\n",
    "\n",
    "Then put it on github, e.g. by dragging it onto github (see instructions below).\n",
    "\n",
    "Finally, add a link to your README file with the name of this exam: \"Exam R September 7, 2018\".\n",
    "\n",
    "# Packages\n",
    "\n",
    "You will need the following packages for this exam."
   ]
  },
  {
   "cell_type": "code",
   "execution_count": 112,
   "metadata": {},
   "outputs": [],
   "source": [
    "library(tidyverse)\n",
    "library(gvlma)"
   ]
  },
  {
   "cell_type": "markdown",
   "metadata": {},
   "source": [
    "# Assignment 1\n",
    "\n",
    "## Data\n",
    "\n",
    "Please read in \"Medicaid.csv\" and check the structure.\n",
    "\n",
    "If needed change the variables Recipients and Total_costs into a numeric variable.\n",
    "\n",
    "Hint: don't forget you cannot change a factor in a numeric variable directly!\n",
    "\n"
   ]
  },
  {
   "cell_type": "code",
   "execution_count": 113,
   "metadata": {},
   "outputs": [],
   "source": [
    "Healthcare <- read.csv2(\"Medicaid.csv\") %>%\n",
    "mutate(Recipients= as.numeric(as.character(Recipients))) %>%\n",
    "mutate(Total_costs= as.numeric(as.character(Total_costs)))"
   ]
  },
  {
   "cell_type": "code",
   "execution_count": 114,
   "metadata": {},
   "outputs": [
    {
     "data": {
      "text/html": [
       "<table>\n",
       "<thead><tr><th scope=col>Year</th><th scope=col>Recipients</th><th scope=col>Total_costs</th></tr></thead>\n",
       "<tbody>\n",
       "\t<tr><td>2003       </td><td>4267573    </td><td>36142075737</td></tr>\n",
       "\t<tr><td>2004       </td><td>4594667    </td><td>38926018824</td></tr>\n",
       "\t<tr><td>2005       </td><td>4733617    </td><td>40803778540</td></tr>\n",
       "\t<tr><td>2006       </td><td>4730167    </td><td>40712547369</td></tr>\n",
       "\t<tr><td>2007       </td><td>4622782    </td><td>42127412366</td></tr>\n",
       "\t<tr><td>2008       </td><td>4657242    </td><td>44239141758</td></tr>\n",
       "\t<tr><td>2009       </td><td>4911408    </td><td>47021820192</td></tr>\n",
       "\t<tr><td>2010       </td><td>5212444    </td><td>49221108692</td></tr>\n",
       "\t<tr><td>2011       </td><td>5398722    </td><td>49975969554</td></tr>\n",
       "\t<tr><td>2012       </td><td>5598237    </td><td>49734737508</td></tr>\n",
       "\t<tr><td>2013       </td><td>5805282    </td><td>49461002640</td></tr>\n",
       "\t<tr><td>2014       </td><td>6327708    </td><td>52595908896</td></tr>\n",
       "\t<tr><td>2015       </td><td>6700524    </td><td>55647851820</td></tr>\n",
       "</tbody>\n",
       "</table>\n"
      ],
      "text/latex": [
       "\\begin{tabular}{r|lll}\n",
       " Year & Recipients & Total\\_costs\\\\\n",
       "\\hline\n",
       "\t 2003        & 4267573     & 36142075737\\\\\n",
       "\t 2004        & 4594667     & 38926018824\\\\\n",
       "\t 2005        & 4733617     & 40803778540\\\\\n",
       "\t 2006        & 4730167     & 40712547369\\\\\n",
       "\t 2007        & 4622782     & 42127412366\\\\\n",
       "\t 2008        & 4657242     & 44239141758\\\\\n",
       "\t 2009        & 4911408     & 47021820192\\\\\n",
       "\t 2010        & 5212444     & 49221108692\\\\\n",
       "\t 2011        & 5398722     & 49975969554\\\\\n",
       "\t 2012        & 5598237     & 49734737508\\\\\n",
       "\t 2013        & 5805282     & 49461002640\\\\\n",
       "\t 2014        & 6327708     & 52595908896\\\\\n",
       "\t 2015        & 6700524     & 55647851820\\\\\n",
       "\\end{tabular}\n"
      ],
      "text/markdown": [
       "\n",
       "Year | Recipients | Total_costs | \n",
       "|---|---|---|---|---|---|---|---|---|---|---|---|---|\n",
       "| 2003        | 4267573     | 36142075737 | \n",
       "| 2004        | 4594667     | 38926018824 | \n",
       "| 2005        | 4733617     | 40803778540 | \n",
       "| 2006        | 4730167     | 40712547369 | \n",
       "| 2007        | 4622782     | 42127412366 | \n",
       "| 2008        | 4657242     | 44239141758 | \n",
       "| 2009        | 4911408     | 47021820192 | \n",
       "| 2010        | 5212444     | 49221108692 | \n",
       "| 2011        | 5398722     | 49975969554 | \n",
       "| 2012        | 5598237     | 49734737508 | \n",
       "| 2013        | 5805282     | 49461002640 | \n",
       "| 2014        | 6327708     | 52595908896 | \n",
       "| 2015        | 6700524     | 55647851820 | \n",
       "\n",
       "\n"
      ],
      "text/plain": [
       "   Year Recipients Total_costs\n",
       "1  2003 4267573    36142075737\n",
       "2  2004 4594667    38926018824\n",
       "3  2005 4733617    40803778540\n",
       "4  2006 4730167    40712547369\n",
       "5  2007 4622782    42127412366\n",
       "6  2008 4657242    44239141758\n",
       "7  2009 4911408    47021820192\n",
       "8  2010 5212444    49221108692\n",
       "9  2011 5398722    49975969554\n",
       "10 2012 5598237    49734737508\n",
       "11 2013 5805282    49461002640\n",
       "12 2014 6327708    52595908896\n",
       "13 2015 6700524    55647851820"
      ]
     },
     "metadata": {},
     "output_type": "display_data"
    }
   ],
   "source": [
    "Healthcare"
   ]
  },
  {
   "cell_type": "markdown",
   "metadata": {},
   "source": [
    "\n",
    "\n",
    "## New variable\n",
    "\n",
    "You will now have to make a new variable called \"Cost_per_Recipient\" by dividing the variable \"Total_Costs\" by the variable \"Recipients\". You will have to use the \"pipe-operator\". You have to show the \"head\" of the dataframe."
   ]
  },
  {
   "cell_type": "code",
   "execution_count": 115,
   "metadata": {},
   "outputs": [],
   "source": [
    "Cost_per_Recipient <- (Healthcare$Total_costs / Healthcare$Recipients)"
   ]
  },
  {
   "cell_type": "code",
   "execution_count": 116,
   "metadata": {},
   "outputs": [
    {
     "data": {
      "text/html": [
       "<ol class=list-inline>\n",
       "\t<li>8469</li>\n",
       "\t<li>8472</li>\n",
       "\t<li>8620</li>\n",
       "\t<li>8607</li>\n",
       "\t<li>9113</li>\n",
       "\t<li>9499</li>\n",
       "\t<li>9574</li>\n",
       "\t<li>9443</li>\n",
       "\t<li>9257</li>\n",
       "\t<li>8884</li>\n",
       "\t<li>8520</li>\n",
       "\t<li>8312</li>\n",
       "\t<li>8305</li>\n",
       "</ol>\n"
      ],
      "text/latex": [
       "\\begin{enumerate*}\n",
       "\\item 8469\n",
       "\\item 8472\n",
       "\\item 8620\n",
       "\\item 8607\n",
       "\\item 9113\n",
       "\\item 9499\n",
       "\\item 9574\n",
       "\\item 9443\n",
       "\\item 9257\n",
       "\\item 8884\n",
       "\\item 8520\n",
       "\\item 8312\n",
       "\\item 8305\n",
       "\\end{enumerate*}\n"
      ],
      "text/markdown": [
       "1. 8469\n",
       "2. 8472\n",
       "3. 8620\n",
       "4. 8607\n",
       "5. 9113\n",
       "6. 9499\n",
       "7. 9574\n",
       "8. 9443\n",
       "9. 9257\n",
       "10. 8884\n",
       "11. 8520\n",
       "12. 8312\n",
       "13. 8305\n",
       "\n",
       "\n"
      ],
      "text/plain": [
       " [1] 8469 8472 8620 8607 9113 9499 9574 9443 9257 8884 8520 8312 8305"
      ]
     },
     "metadata": {},
     "output_type": "display_data"
    }
   ],
   "source": [
    "Cost_per_Recipient"
   ]
  },
  {
   "cell_type": "code",
   "execution_count": 117,
   "metadata": {},
   "outputs": [
    {
     "data": {
      "text/html": [
       "<ol class=list-inline>\n",
       "\t<li>8469</li>\n",
       "\t<li>8472</li>\n",
       "\t<li>8620</li>\n",
       "\t<li>8607</li>\n",
       "\t<li>9113</li>\n",
       "\t<li>9499</li>\n",
       "</ol>\n"
      ],
      "text/latex": [
       "\\begin{enumerate*}\n",
       "\\item 8469\n",
       "\\item 8472\n",
       "\\item 8620\n",
       "\\item 8607\n",
       "\\item 9113\n",
       "\\item 9499\n",
       "\\end{enumerate*}\n"
      ],
      "text/markdown": [
       "1. 8469\n",
       "2. 8472\n",
       "3. 8620\n",
       "4. 8607\n",
       "5. 9113\n",
       "6. 9499\n",
       "\n",
       "\n"
      ],
      "text/plain": [
       "[1] 8469 8472 8620 8607 9113 9499"
      ]
     },
     "metadata": {},
     "output_type": "display_data"
    }
   ],
   "source": [
    "head(Cost_per_Recipient)"
   ]
  },
  {
   "cell_type": "markdown",
   "metadata": {},
   "source": [
    "## Plot 1\n",
    "\n",
    "Now you have to make a line plot of the data:\n",
    "\n",
    "* with Year on the x-axis\n",
    "* Cost_per_Recipient on the y-axis\n",
    "* The line should have size 3 and the color \"red\"\n",
    "* The name on the Y axis should be \"Cost per enrollee\"\n",
    "\n",
    "\n"
   ]
  },
  {
   "cell_type": "code",
   "execution_count": 118,
   "metadata": {},
   "outputs": [
    {
     "ename": "ERROR",
     "evalue": "Error: ggplot2 doesn't know how to deal with data of class numeric\n",
     "output_type": "error",
     "traceback": [
      "Error: ggplot2 doesn't know how to deal with data of class numeric\nTraceback:\n",
      "1. ggplot(data = Cost_per_Recipient, aes(x = Year, y = Cost_per_Recipient))",
      "2. ggplot.default(data = Cost_per_Recipient, aes(x = Year, y = Cost_per_Recipient))",
      "3. ggplot.data.frame(fortify(data, ...), mapping, environment = environment)",
      "4. structure(list(data = data, layers = list(), scales = scales_list(), \n .     mapping = mapping, theme = list(), coordinates = coord_cartesian(), \n .     facet = facet_null(), plot_env = environment), class = c(\"gg\", \n .     \"ggplot\"))",
      "5. fortify(data, ...)",
      "6. fortify.default(data, ...)",
      "7. stop(\"ggplot2 doesn't know how to deal with data of class \", \n .     paste(class(model), collapse = \"/\"), call. = FALSE)"
     ]
    }
   ],
   "source": [
    " ggplot(data=Cost_per_Recipient, aes(x=Year, y=Cost_per_Recipient))+geom_point()+geom_smooth(method=lm, col=\"red\")+title(ylabel(\"Cost per enrollee\"))+theme_light()\n"
   ]
  },
  {
   "cell_type": "markdown",
   "metadata": {},
   "source": [
    "End of notebook"
   ]
  },
  {
   "cell_type": "code",
   "execution_count": null,
   "metadata": {},
   "outputs": [],
   "source": []
  }
 ],
 "metadata": {
  "anaconda-cloud": {},
  "kernelspec": {
   "display_name": "R",
   "language": "R",
   "name": "ir"
  },
  "language_info": {
   "codemirror_mode": "r",
   "file_extension": ".r",
   "mimetype": "text/x-r-source",
   "name": "R",
   "pygments_lexer": "r",
   "version": "3.4.3"
  }
 },
 "nbformat": 4,
 "nbformat_minor": 1
}
